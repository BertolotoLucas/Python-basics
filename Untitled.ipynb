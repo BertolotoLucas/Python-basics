{
 "cells": [
  {
   "cell_type": "markdown",
   "id": "de472d0d",
   "metadata": {},
   "source": [
    "# Python Basics"
   ]
  },
  {
   "cell_type": "markdown",
   "id": "a6a0e861",
   "metadata": {},
   "source": [
    "## Tipos de Dados"
   ]
  },
  {
   "cell_type": "code",
   "execution_count": 1,
   "id": "b9ea0ade",
   "metadata": {},
   "outputs": [
    {
     "name": "stdout",
     "output_type": "stream",
     "text": [
      "5 <class 'int'>\n"
     ]
    }
   ],
   "source": [
    "x = 5\n",
    "print(x,type(x))"
   ]
  },
  {
   "cell_type": "code",
   "execution_count": 2,
   "id": "ce075a81",
   "metadata": {},
   "outputs": [
    {
     "name": "stdout",
     "output_type": "stream",
     "text": [
      "5.3 <class 'float'>\n"
     ]
    }
   ],
   "source": [
    "x = 5.3\n",
    "print(x,type(x))"
   ]
  },
  {
   "cell_type": "code",
   "execution_count": 3,
   "id": "9fc1e3ee",
   "metadata": {},
   "outputs": [
    {
     "name": "stdout",
     "output_type": "stream",
     "text": [
      "Exemplo <class 'str'>\n"
     ]
    }
   ],
   "source": [
    "x = \"Exemplo\"\n",
    "print(x,type(x)) #Comentario, esse tipo é uma String"
   ]
  },
  {
   "cell_type": "code",
   "execution_count": 10,
   "id": "5931a894",
   "metadata": {},
   "outputs": [
    {
     "name": "stdout",
     "output_type": "stream",
     "text": [
      "True <class 'bool'>\n"
     ]
    }
   ],
   "source": [
    "x = True\n",
    "print(x,type(x))"
   ]
  },
  {
   "cell_type": "markdown",
   "id": "87998b53",
   "metadata": {},
   "source": [
    "## Operações"
   ]
  },
  {
   "cell_type": "code",
   "execution_count": 9,
   "id": "28e98ed3",
   "metadata": {},
   "outputs": [
    {
     "name": "stdout",
     "output_type": "stream",
     "text": [
      "18\n",
      "8\n",
      "65\n",
      "371293\n",
      "2.6\n",
      "2\n",
      "3\n"
     ]
    }
   ],
   "source": [
    "x = 13\n",
    "y = 5\n",
    "\n",
    "print(x+y) #Soma, saida deve ser 18\n",
    "print(x-y) #Subtracao, saida deve ser 8\n",
    "print(x*y) \n",
    "print(x**y) # Potenciacao, resultado 371293\n",
    "print(x/y) #Divisão, resultado 2,6\n",
    "print(x//y) #Disicao inteira, resultado a parte inteira da divisao (2),6\n",
    "print(x%y) #Resto de divisao, resultado 3"
   ]
  },
  {
   "cell_type": "code",
   "execution_count": 11,
   "id": "eb6dfa2a",
   "metadata": {},
   "outputs": [
    {
     "name": "stdout",
     "output_type": "stream",
     "text": [
      "True\n",
      "True\n",
      "False\n"
     ]
    }
   ],
   "source": [
    "tem_pao = True\n",
    "tem_cafe = False\n",
    "\n",
    "print(not tem_cafe) # true\n",
    "print(tem_pao or tem_cafe)  # true ou false = true\n",
    "print(tem_pao and tem_cafe) # true e false = false"
   ]
  },
  {
   "cell_type": "code",
   "execution_count": 14,
   "id": "dcc599c4",
   "metadata": {},
   "outputs": [
    {
     "name": "stdout",
     "output_type": "stream",
     "text": [
      "True\n",
      "False\n",
      "False\n",
      "True\n",
      "False\n",
      "True\n"
     ]
    }
   ],
   "source": [
    "x = 13\n",
    "y = 5\n",
    "\n",
    "print(x>y)\n",
    "print(x<y)\n",
    "print(x==y)\n",
    "print(x>=y)\n",
    "print(x<=y)\n",
    "print(x!=y)"
   ]
  },
  {
   "cell_type": "markdown",
   "id": "917a93a1",
   "metadata": {},
   "source": [
    "## Estruturas Sequenciais"
   ]
  },
  {
   "cell_type": "code",
   "execution_count": 27,
   "id": "82210f98",
   "metadata": {},
   "outputs": [
    {
     "name": "stdout",
     "output_type": "stream",
     "text": [
      "So vai funcionar se inserir numeros: \n",
      "123\n",
      "Valor inserido: 123, tipo do dado:  <class 'str'>\n",
      "Podemos converter o tipo de String para outro tipo:  <class 'int'>  123\n",
      "Novo valor: 123, tipo:  <class 'str'>\n",
      "Novo valor: 123.0, tipo:  <class 'float'>\n",
      "Novo valor: True, tipo:  <class 'bool'>\n"
     ]
    }
   ],
   "source": [
    "print(\"So vai funcionar se inserir numeros: \")\n",
    "entrada = input()\n",
    "print(f\"Valor inserido: {entrada}, tipo do dado: \",type(entrada))\n",
    "print(\"Podemos converter o tipo de String para outro tipo: \",type(int(entrada)), f\" {entrada}\")\n",
    "conversao = str(entrada)\n",
    "print(f\"Novo valor: {conversao}, tipo: \",type(conversao))\n",
    "conversao = float(entrada)\n",
    "print(f\"Novo valor: {conversao}, tipo: \",type(conversao))\n",
    "conversao = bool(entrada)\n",
    "print(f\"Novo valor: {conversao}, tipo: \",type(conversao))"
   ]
  },
  {
   "cell_type": "markdown",
   "id": "d929f9d3",
   "metadata": {},
   "source": [
    "## Estruturas condicionais "
   ]
  },
  {
   "cell_type": "code",
   "execution_count": 41,
   "id": "18802e54",
   "metadata": {},
   "outputs": [
    {
     "name": "stdout",
     "output_type": "stream",
     "text": [
      "t é verdadeiro\n",
      "f é falso\n",
      "t é verdadeiro e f é falso\n"
     ]
    }
   ],
   "source": [
    "#Importante deixar o codigo identado para poder funcionar, pois os blocos no python sao lidos dessa forma\n",
    "t = True\n",
    "f = False\n",
    "\n",
    "if(t):\n",
    "    print(\"t é verdadeiro\")\n",
    "else:\n",
    "    print(\"t é falso\")\n",
    "if(f):\n",
    "    print(\"f é verdadeiro\")\n",
    "else:\n",
    "    print(\"f é falso\")\n",
    "\n",
    "if(t):\n",
    "    if(not f):\n",
    "        print(\"t é verdadeiro e f é falso\")\n",
    "elif(not t):\n",
    "    print(\"voce mudou o valor da variavel t!\")\n",
    "else:\n",
    "    print(\"Nao consegui prever!\")"
   ]
  },
  {
   "cell_type": "code",
   "execution_count": null,
   "id": "d6d6481d",
   "metadata": {},
   "outputs": [],
   "source": []
  }
 ],
 "metadata": {
  "kernelspec": {
   "display_name": "Python 3 (ipykernel)",
   "language": "python",
   "name": "python3"
  },
  "language_info": {
   "codemirror_mode": {
    "name": "ipython",
    "version": 3
   },
   "file_extension": ".py",
   "mimetype": "text/x-python",
   "name": "python",
   "nbconvert_exporter": "python",
   "pygments_lexer": "ipython3",
   "version": "3.9.6"
  }
 },
 "nbformat": 4,
 "nbformat_minor": 5
}
