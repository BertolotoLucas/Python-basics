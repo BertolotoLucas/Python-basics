{
 "cells": [
  {
   "cell_type": "markdown",
   "id": "27a1f482",
   "metadata": {},
   "source": [
    "x = int(input(\"Insira um valor inteiro: \"))\n",
    "y = int(input(\"Insira um outro valor inteiro maior que o anterior: \"))\n",
    "\n",
    "def ehPrimo(x):\n",
    "    if(x<2):\n",
    "        return False \n",
    "    else:\n",
    "        i=2\n",
    "        while (i*i<=x):\n",
    "            if (x%i == 0):\n",
    "                return False\n",
    "            i = i+1\n",
    "    return True\n",
    "\n",
    "lista = []\n",
    "i=x\n",
    "while(i <= y):\n",
    "    if(ehPrimo(i)):\n",
    "        lista.append(i)\n",
    "    i = i+1\n",
    "    \n",
    "print(f\"Resultado: {lista}\")"
   ]
  },
  {
   "cell_type": "code",
   "execution_count": null,
   "id": "237243ac",
   "metadata": {},
   "outputs": [],
   "source": []
  }
 ],
 "metadata": {
  "kernelspec": {
   "display_name": "Python 3 (ipykernel)",
   "language": "python",
   "name": "python3"
  },
  "language_info": {
   "codemirror_mode": {
    "name": "ipython",
    "version": 3
   },
   "file_extension": ".py",
   "mimetype": "text/x-python",
   "name": "python",
   "nbconvert_exporter": "python",
   "pygments_lexer": "ipython3",
   "version": "3.9.6"
  }
 },
 "nbformat": 4,
 "nbformat_minor": 5
}
